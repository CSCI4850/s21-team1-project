{
 "cells": [
  {
   "cell_type": "markdown",
   "metadata": {},
   "source": [
    "# Project Milestone #2"
   ]
  },
  {
   "cell_type": "markdown",
   "metadata": {},
   "source": [
    "|Deliverable|Percent Complete|Expected Completion Date|Percent Complete by Next Milestone|\n",
    "|-|-|-|-|\n",
    "|Code|15%|Apr 16th|25%|\n",
    "|Paper|5%|Apr 19th|10%|\n",
    "|Demo|0%|Apr 26th|5%|\n",
    "|Presentation|5%|Apr 26th|5%|"
   ]
  },
  {
   "cell_type": "markdown",
   "metadata": {},
   "source": [
    "<strong> 1. What deliverable goals established in the last milestone report were accomplished to the anticipated\n",
    "percentage? </strong>\n",
    "\n",
    "Brad carter has completed code needed to scrape images off of the web and Chris Sutton has identified the means by which we will be pre-processing the scraped images. Since data is the main issue for this project this likely makes up about 15% of the coding portion. We have been documenting the discussion points from each meeting to help with the paper and presentation later, I would say that the documentation makes up 5% of those deliverables."
   ]
  },
  {
   "cell_type": "markdown",
   "metadata": {},
   "source": [
    "<strong>2. What deliverable goals established in the last milestone report were were not accomplished to the anticipated percentage? </strong>\n",
    "\n",
    "We made no progress towards any kind of demonstration. Once we get the images grouped and processed we will begin developing the network. "
   ]
  },
  {
   "cell_type": "markdown",
   "metadata": {},
   "source": [
    "<strong> 3. What are the main deliverable goals to meet before the next milestone report, and who is working on them? </strong>\n",
    "\n",
    "Our goals to acheive for the next milestone are to finish gathering and pre-processing data and work on building and testing a CNN with the gathered data. Brad Carter is compiling and grouping images, once the data is ready Chris Sutton will ensure that keras.preprocessing.image_dataset_from_directory will be effective for processing. Sean and Justin will be building out the model once this is finished. Matthew will act as a project manager, ensure that both groups are making progress, help out where needed, and document any sources that are used or progress that is made."
   ]
  },
  {
   "cell_type": "code",
   "execution_count": null,
   "metadata": {},
   "outputs": [],
   "source": [
    " "
   ]
  }
 ],
 "metadata": {
  "kernelspec": {
   "display_name": "Python 3",
   "language": "python",
   "name": "python3"
  },
  "language_info": {
   "codemirror_mode": {
    "name": "ipython",
    "version": 3
   },
   "file_extension": ".py",
   "mimetype": "text/x-python",
   "name": "python",
   "nbconvert_exporter": "python",
   "pygments_lexer": "ipython3",
   "version": "3.8.5"
  }
 },
 "nbformat": 4,
 "nbformat_minor": 4
}
