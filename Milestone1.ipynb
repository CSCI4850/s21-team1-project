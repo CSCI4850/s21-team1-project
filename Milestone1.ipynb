{
 "cells": [
  {
   "cell_type": "markdown",
   "metadata": {},
   "source": [
    "# Project Milestone #1"
   ]
  },
  {
   "cell_type": "markdown",
   "metadata": {},
   "source": [
    "|Deliverable|Percent Complete|Expected Completion Date|Percent Complete by Next Milestone|\n",
    "|-|-|-|-|\n",
    "|Code|0%|Apr 16th|10%|\n",
    "|Paper|0%|Apr 19th|5%|\n",
    "|Demo|0%|Apr 26th|5%|\n",
    "|Presentation|0%|Apr 26th|5%|"
   ]
  },
  {
   "cell_type": "markdown",
   "metadata": {},
   "source": [
    "# Question 1\n",
    "Since this is the first milestone there were no previously set goals."
   ]
  },
  {
   "cell_type": "markdown",
   "metadata": {},
   "source": [
    "# Question 2\n",
    "Since this is the first milestone there were no previously set goals."
   ]
  },
  {
   "cell_type": "markdown",
   "metadata": {},
   "source": [
    "# Question 3\n",
    "Our goals to acheive for the next milestone are gathering and processing data, and conducting more in-depth research to determine specific architecutres that we would like to use to solve our problem. Brad Carter is working on building or finding a preexisting scrapper that will be able to pull images of squats from the web. He will be working closely with Chris who will be processing these images to ensure that the images are useful and to assign metadata to the image. Sean and Justin will be working on researching architectures that we will be using for the network. Matthew will act as a project manager, and will ensure that both groups are making progress, and help out where needed, as well as documenting any sources that are used or progress that is made."
   ]
  }
 ],
 "metadata": {
  "kernelspec": {
   "display_name": "Python 3",
   "language": "python",
   "name": "python3"
  },
  "language_info": {
   "codemirror_mode": {
    "name": "ipython",
    "version": 3
   },
   "file_extension": ".py",
   "mimetype": "text/x-python",
   "name": "python",
   "nbconvert_exporter": "python",
   "pygments_lexer": "ipython3",
   "version": "3.8.6"
  }
 },
 "nbformat": 4,
 "nbformat_minor": 4
}
