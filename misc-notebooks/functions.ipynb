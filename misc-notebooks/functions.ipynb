{
 "cells": [
  {
   "cell_type": "code",
   "execution_count": 80,
   "id": "working-storage",
   "metadata": {},
   "outputs": [],
   "source": [
    "import numpy as np\n",
    "import os\n",
    "\n",
    "from tensorflow.keras.preprocessing import image\n",
    "from tensorflow.keras.applications.xception import preprocess_input"
   ]
  },
  {
   "cell_type": "code",
   "execution_count": 1,
   "id": "great-floating",
   "metadata": {},
   "outputs": [],
   "source": [
    "# Grabs, processes, and returns an image. If there is any additonal processing to be done, this function is a good place to start\n",
    "def grab_image(img_path):\n",
    "    img = image.load_img(img_path, target_size=(100,100))\n",
    "    x = image.img_to_array(img)\n",
    "    x = np.expand_dims(x, axis=0)\n",
    "    x = preprocess_input(x)\n",
    "    return x"
   ]
  },
  {
   "cell_type": "code",
   "execution_count": 85,
   "id": "subsequent-rider",
   "metadata": {},
   "outputs": [],
   "source": [
    "# Takes a directory as input and returns a tuple that contains a numpy array with image information and a list with the corresponding directory names\n",
    "def imgs_to_array(dir_path):\n",
    "    full_paths = []\n",
    "    y = []\n",
    "    for img in os.listdir(dir_path):\n",
    "            full_paths.append(os.path.join(dir_path +'/', img))\n",
    "            y.append(os.path.basename(dir_path))\n",
    "\n",
    "    x = np.concatenate(\n",
    "        [grab_image(img)\n",
    "        for img in full_paths])\n",
    "\n",
    "    return x, y"
   ]
  }
 ],
 "metadata": {
  "kernelspec": {
   "display_name": "Python 3",
   "language": "python",
   "name": "python3"
  },
  "language_info": {
   "codemirror_mode": {
    "name": "ipython",
    "version": 3
   },
   "file_extension": ".py",
   "mimetype": "text/x-python",
   "name": "python",
   "nbconvert_exporter": "python",
   "pygments_lexer": "ipython3",
   "version": "3.8.5"
  }
 },
 "nbformat": 4,
 "nbformat_minor": 5
}
