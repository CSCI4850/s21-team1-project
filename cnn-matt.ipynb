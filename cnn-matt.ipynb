{
 "cells": [
  {
   "cell_type": "code",
   "execution_count": 18,
   "id": "affected-genealogy",
   "metadata": {},
   "outputs": [],
   "source": [
    "import tensorflow.keras as keras\n",
    "from tensorflow.keras import backend as K\n",
    "import numpy as np\n",
    "from IPython.display import display\n",
    "import matplotlib.pyplot as plt\n",
    "%matplotlib inline\n",
    "\n",
    "import tensorflow as tf\n",
    "from tensorflow.keras.applications.xception import Xception\n",
    "from tensorflow.keras.preprocessing import image\n",
    "from tensorflow.keras.applications.xception import preprocess_input, decode_predictions"
   ]
  },
  {
   "cell_type": "code",
   "execution_count": 19,
   "id": "noticed-operator",
   "metadata": {},
   "outputs": [
    {
     "name": "stdout",
     "output_type": "stream",
     "text": [
      "(434, 100, 100, 3)\n",
      "(434, 2)\n"
     ]
    }
   ],
   "source": [
    "X = np.load('./leabra/data_exports/x_4-1.npy')\n",
    "Y = np.load('./leabra/data_exports/y_4-1.npy')\n",
    "\n",
    "print(X.shape)\n",
    "print(Y.shape)"
   ]
  },
  {
   "cell_type": "code",
   "execution_count": 3,
   "id": "express-story",
   "metadata": {},
   "outputs": [],
   "source": [
    "physical_devices = tf.config.list_physical_devices('GPU')\n",
    "try:\n",
    "    tf.config.experimental.set_memory_growth(physical_devices[0], True)\n",
    "except:\n",
    "  # Invalid device or cannot modify virtual devices once initialized.\n",
    "    pass"
   ]
  },
  {
   "cell_type": "code",
   "execution_count": 5,
   "id": "sophisticated-pressing",
   "metadata": {},
   "outputs": [
    {
     "name": "stdout",
     "output_type": "stream",
     "text": [
      "Model: \"sequential\"\n",
      "_________________________________________________________________\n",
      "Layer (type)                 Output Shape              Param #   \n",
      "=================================================================\n",
      "conv2d (Conv2D)              (None, 97, 97, 64)        3136      \n",
      "_________________________________________________________________\n",
      "conv2d_1 (Conv2D)            (None, 90, 90, 64)        262208    \n",
      "_________________________________________________________________\n",
      "max_pooling2d (MaxPooling2D) (None, 22, 22, 64)        0         \n",
      "_________________________________________________________________\n",
      "dropout (Dropout)            (None, 22, 22, 64)        0         \n",
      "_________________________________________________________________\n",
      "flatten (Flatten)            (None, 30976)             0         \n",
      "_________________________________________________________________\n",
      "dense (Dense)                (None, 64)                1982528   \n",
      "_________________________________________________________________\n",
      "dropout_1 (Dropout)          (None, 64)                0         \n",
      "_________________________________________________________________\n",
      "dense_1 (Dense)              (None, 2)                 130       \n",
      "=================================================================\n",
      "Total params: 2,248,002\n",
      "Trainable params: 2,248,002\n",
      "Non-trainable params: 0\n",
      "_________________________________________________________________\n"
     ]
    }
   ],
   "source": [
    "first_model = keras.Sequential()\n",
    "# Note the input size (there is only one channel - intensity)\n",
    "# these images... if you are using color images, your would\n",
    "# need to set the last dimension of the input_shape to -3-\n",
    "# above and this would carry over into this cell...\n",
    "first_model.add(keras.layers.Conv2D(64, kernel_size=(4,4),\n",
    " activation='relu',\n",
    " input_shape=[X.shape[1],\n",
    " X.shape[2],\n",
    " X.shape[3]]))\n",
    "first_model.add(keras.layers.Conv2D(64, (8,8), activation='relu'))\n",
    "first_model.add(keras.layers.MaxPooling2D(pool_size=(4,4)))\n",
    "first_model.add(keras.layers.Dropout(0.2))\n",
    "first_model.add(keras.layers.Flatten())\n",
    "first_model.add(keras.layers.Dense(64, activation='relu'))\n",
    "first_model.add(keras.layers.Dropout(0.3))\n",
    "first_model.add(keras.layers.Dense(Y.shape[1], activation='softmax'))\n",
    "first_model.compile(loss=keras.losses.CategoricalCrossentropy(),\n",
    " optimizer=keras.optimizers.Adam(),\n",
    " metrics=[keras.metrics.CategoricalAccuracy()])\n",
    "first_model.summary()"
   ]
  },
  {
   "cell_type": "code",
   "execution_count": 8,
   "id": "strange-catch",
   "metadata": {},
   "outputs": [
    {
     "name": "stdout",
     "output_type": "stream",
     "text": [
      "Epoch 1/50\n",
      "7/7 [==============================] - 2s 196ms/step - loss: 0.1143 - categorical_accuracy: 0.9625 - val_loss: 4.8116 - val_categorical_accuracy: 0.1724\n",
      "Epoch 2/50\n",
      "7/7 [==============================] - 0s 41ms/step - loss: 0.1224 - categorical_accuracy: 0.9510 - val_loss: 5.0094 - val_categorical_accuracy: 0.1724\n",
      "Epoch 3/50\n",
      "7/7 [==============================] - 0s 40ms/step - loss: 0.0929 - categorical_accuracy: 0.9654 - val_loss: 5.1861 - val_categorical_accuracy: 0.1724\n",
      "Epoch 4/50\n",
      "7/7 [==============================] - 0s 41ms/step - loss: 0.1067 - categorical_accuracy: 0.9568 - val_loss: 4.2742 - val_categorical_accuracy: 0.2874\n",
      "Epoch 5/50\n",
      "7/7 [==============================] - 0s 41ms/step - loss: 0.0967 - categorical_accuracy: 0.9625 - val_loss: 5.5721 - val_categorical_accuracy: 0.1609\n",
      "Epoch 6/50\n",
      "7/7 [==============================] - 0s 40ms/step - loss: 0.0766 - categorical_accuracy: 0.9683 - val_loss: 5.0797 - val_categorical_accuracy: 0.2529\n",
      "Epoch 7/50\n",
      "7/7 [==============================] - 0s 41ms/step - loss: 0.0656 - categorical_accuracy: 0.9769 - val_loss: 5.6460 - val_categorical_accuracy: 0.2069\n",
      "Epoch 8/50\n",
      "7/7 [==============================] - 0s 41ms/step - loss: 0.0857 - categorical_accuracy: 0.9683 - val_loss: 5.5951 - val_categorical_accuracy: 0.2184\n",
      "Epoch 9/50\n",
      "7/7 [==============================] - 0s 40ms/step - loss: 0.0496 - categorical_accuracy: 0.9885 - val_loss: 4.6544 - val_categorical_accuracy: 0.2989\n",
      "Epoch 10/50\n",
      "7/7 [==============================] - 0s 42ms/step - loss: 0.0721 - categorical_accuracy: 0.9683 - val_loss: 6.5554 - val_categorical_accuracy: 0.1724\n",
      "Epoch 11/50\n",
      "7/7 [==============================] - 0s 40ms/step - loss: 0.0664 - categorical_accuracy: 0.9712 - val_loss: 6.9992 - val_categorical_accuracy: 0.1724\n",
      "Epoch 12/50\n",
      "7/7 [==============================] - 0s 41ms/step - loss: 0.0644 - categorical_accuracy: 0.9769 - val_loss: 6.2245 - val_categorical_accuracy: 0.2529\n",
      "Epoch 13/50\n",
      "7/7 [==============================] - 0s 40ms/step - loss: 0.0690 - categorical_accuracy: 0.9798 - val_loss: 5.6755 - val_categorical_accuracy: 0.2989\n",
      "Epoch 14/50\n",
      "7/7 [==============================] - 0s 40ms/step - loss: 0.0498 - categorical_accuracy: 0.9798 - val_loss: 6.6390 - val_categorical_accuracy: 0.2184\n",
      "Epoch 15/50\n",
      "7/7 [==============================] - 0s 42ms/step - loss: 0.0539 - categorical_accuracy: 0.9769 - val_loss: 6.6471 - val_categorical_accuracy: 0.2529\n",
      "Epoch 16/50\n",
      "7/7 [==============================] - 0s 42ms/step - loss: 0.0547 - categorical_accuracy: 0.9769 - val_loss: 6.5393 - val_categorical_accuracy: 0.2644\n",
      "Epoch 17/50\n",
      "7/7 [==============================] - 0s 42ms/step - loss: 0.0500 - categorical_accuracy: 0.9827 - val_loss: 7.5749 - val_categorical_accuracy: 0.2184\n",
      "Epoch 18/50\n",
      "7/7 [==============================] - 0s 40ms/step - loss: 0.0588 - categorical_accuracy: 0.9769 - val_loss: 6.8427 - val_categorical_accuracy: 0.2299\n",
      "Epoch 19/50\n",
      "7/7 [==============================] - 0s 41ms/step - loss: 0.0450 - categorical_accuracy: 0.9856 - val_loss: 6.3480 - val_categorical_accuracy: 0.2759\n",
      "Epoch 20/50\n",
      "7/7 [==============================] - 0s 41ms/step - loss: 0.0417 - categorical_accuracy: 0.9798 - val_loss: 6.4871 - val_categorical_accuracy: 0.2759\n",
      "Epoch 21/50\n",
      "7/7 [==============================] - 0s 41ms/step - loss: 0.0514 - categorical_accuracy: 0.9856 - val_loss: 6.7937 - val_categorical_accuracy: 0.2644\n",
      "Epoch 22/50\n",
      "7/7 [==============================] - 0s 41ms/step - loss: 0.0502 - categorical_accuracy: 0.9798 - val_loss: 7.0747 - val_categorical_accuracy: 0.2529\n",
      "Epoch 23/50\n",
      "7/7 [==============================] - 0s 41ms/step - loss: 0.0455 - categorical_accuracy: 0.9741 - val_loss: 6.4863 - val_categorical_accuracy: 0.2759\n",
      "Epoch 24/50\n",
      "7/7 [==============================] - 0s 41ms/step - loss: 0.0478 - categorical_accuracy: 0.9827 - val_loss: 6.9620 - val_categorical_accuracy: 0.2529\n",
      "Epoch 25/50\n",
      "7/7 [==============================] - 0s 41ms/step - loss: 0.0663 - categorical_accuracy: 0.9712 - val_loss: 6.9108 - val_categorical_accuracy: 0.2644\n",
      "Epoch 26/50\n",
      "7/7 [==============================] - 0s 46ms/step - loss: 0.0462 - categorical_accuracy: 0.9798 - val_loss: 6.6130 - val_categorical_accuracy: 0.2874\n",
      "Epoch 27/50\n",
      "7/7 [==============================] - 0s 41ms/step - loss: 0.0434 - categorical_accuracy: 0.9769 - val_loss: 6.8994 - val_categorical_accuracy: 0.2989\n",
      "Epoch 28/50\n",
      "7/7 [==============================] - 0s 41ms/step - loss: 0.0393 - categorical_accuracy: 0.9885 - val_loss: 8.4090 - val_categorical_accuracy: 0.2529\n",
      "Epoch 29/50\n",
      "7/7 [==============================] - 0s 41ms/step - loss: 0.0395 - categorical_accuracy: 0.9827 - val_loss: 9.2542 - val_categorical_accuracy: 0.2184\n",
      "Epoch 30/50\n",
      "7/7 [==============================] - 0s 41ms/step - loss: 0.0375 - categorical_accuracy: 0.9885 - val_loss: 7.7129 - val_categorical_accuracy: 0.2759\n",
      "Epoch 31/50\n",
      "7/7 [==============================] - 0s 46ms/step - loss: 0.0547 - categorical_accuracy: 0.9741 - val_loss: 6.4507 - val_categorical_accuracy: 0.2989\n",
      "Epoch 32/50\n",
      "7/7 [==============================] - 0s 41ms/step - loss: 0.0469 - categorical_accuracy: 0.9741 - val_loss: 7.4442 - val_categorical_accuracy: 0.2184\n",
      "Epoch 33/50\n",
      "7/7 [==============================] - 0s 41ms/step - loss: 0.0439 - categorical_accuracy: 0.9798 - val_loss: 7.4187 - val_categorical_accuracy: 0.2184\n",
      "Epoch 34/50\n",
      "7/7 [==============================] - 0s 43ms/step - loss: 0.0398 - categorical_accuracy: 0.9827 - val_loss: 7.6842 - val_categorical_accuracy: 0.1954\n",
      "Epoch 35/50\n",
      "7/7 [==============================] - 0s 45ms/step - loss: 0.0329 - categorical_accuracy: 0.9856 - val_loss: 7.8549 - val_categorical_accuracy: 0.2069\n",
      "Epoch 36/50\n",
      "7/7 [==============================] - 0s 42ms/step - loss: 0.0426 - categorical_accuracy: 0.9769 - val_loss: 8.5633 - val_categorical_accuracy: 0.1839\n",
      "Epoch 37/50\n",
      "7/7 [==============================] - 0s 41ms/step - loss: 0.0483 - categorical_accuracy: 0.9769 - val_loss: 6.2708 - val_categorical_accuracy: 0.3103\n",
      "Epoch 38/50\n",
      "7/7 [==============================] - 0s 41ms/step - loss: 0.0378 - categorical_accuracy: 0.9798 - val_loss: 6.4956 - val_categorical_accuracy: 0.3103\n",
      "Epoch 39/50\n",
      "7/7 [==============================] - 0s 41ms/step - loss: 0.0369 - categorical_accuracy: 0.9856 - val_loss: 7.8285 - val_categorical_accuracy: 0.2529\n",
      "Epoch 40/50\n",
      "7/7 [==============================] - 0s 41ms/step - loss: 0.0328 - categorical_accuracy: 0.9914 - val_loss: 9.0182 - val_categorical_accuracy: 0.1954\n",
      "Epoch 41/50\n",
      "7/7 [==============================] - 0s 41ms/step - loss: 0.0352 - categorical_accuracy: 0.9798 - val_loss: 7.3762 - val_categorical_accuracy: 0.2529\n",
      "Epoch 42/50\n",
      "7/7 [==============================] - 0s 41ms/step - loss: 0.0336 - categorical_accuracy: 0.9856 - val_loss: 7.6106 - val_categorical_accuracy: 0.2184\n",
      "Epoch 43/50\n",
      "7/7 [==============================] - 0s 41ms/step - loss: 0.0318 - categorical_accuracy: 0.9827 - val_loss: 7.6933 - val_categorical_accuracy: 0.2299\n",
      "Epoch 44/50\n",
      "7/7 [==============================] - 0s 40ms/step - loss: 0.0302 - categorical_accuracy: 0.9856 - val_loss: 8.3731 - val_categorical_accuracy: 0.2299\n",
      "Epoch 45/50\n",
      "7/7 [==============================] - 0s 40ms/step - loss: 0.0302 - categorical_accuracy: 0.9885 - val_loss: 8.4981 - val_categorical_accuracy: 0.2414\n",
      "Epoch 46/50\n",
      "7/7 [==============================] - 0s 42ms/step - loss: 0.0293 - categorical_accuracy: 0.9856 - val_loss: 8.2097 - val_categorical_accuracy: 0.2759\n",
      "Epoch 47/50\n",
      "7/7 [==============================] - 0s 44ms/step - loss: 0.0367 - categorical_accuracy: 0.9798 - val_loss: 8.7626 - val_categorical_accuracy: 0.2414\n",
      "Epoch 48/50\n",
      "7/7 [==============================] - 0s 47ms/step - loss: 0.0433 - categorical_accuracy: 0.9827 - val_loss: 8.4979 - val_categorical_accuracy: 0.2414\n",
      "Epoch 49/50\n",
      "7/7 [==============================] - 0s 41ms/step - loss: 0.0299 - categorical_accuracy: 0.9856 - val_loss: 7.7279 - val_categorical_accuracy: 0.2874\n",
      "Epoch 50/50\n",
      "7/7 [==============================] - 0s 39ms/step - loss: 0.0427 - categorical_accuracy: 0.9827 - val_loss: 8.7078 - val_categorical_accuracy: 0.2069\n"
     ]
    }
   ],
   "source": [
    "batch_size = 50\n",
    "epochs = 50\n",
    "history = first_model.fit(X, Y,\n",
    " batch_size=batch_size,\n",
    " epochs=epochs,\n",
    " verbose=1,\n",
    " validation_split = 0.2)"
   ]
  },
  {
   "cell_type": "code",
   "execution_count": 9,
   "id": "quick-welcome",
   "metadata": {},
   "outputs": [
    {
     "name": "stdout",
     "output_type": "stream",
     "text": [
      "Test loss: 1.7620903253555298\n",
      "Test accuracy: 0.8317972421646118\n"
     ]
    },
    {
     "data": {
      "image/png": "[encoded data removed]",
      "text/plain": [
       "<Figure size 432x288 with 2 Axes>"
      ]
     },
     "metadata": {
      "needs_background": "light"
     },
     "output_type": "display_data"
    }
   ],
   "source": [
    "score = first_model.evaluate(X, Y, verbose = 0)\n",
    "print(\"Test loss:\", score[0])\n",
    "print(\"Test accuracy:\",score[1])\n",
    "\n",
    "plt.figure(1) \n",
    "\n",
    "# summarize history for accuracy\n",
    "plt.subplot(211)\n",
    "plt.plot(history.history['categorical_accuracy'])\n",
    "plt.plot(history.history['val_categorical_accuracy']) \n",
    "plt.title('model accuracy')\n",
    "plt.ylabel('accuracy')\n",
    "plt.xlabel('epoch')\n",
    "plt.legend(['train', 'val'], loc='upper left')\n",
    "\n",
    "# summarize history for loss\n",
    "plt.subplot(212)\n",
    "plt.plot(history.history['loss'])\n",
    "plt.plot(history.history['val_loss'])\n",
    "plt.title('model loss')\n",
    "plt.ylabel('loss')\n",
    "plt.xlabel('epoch')\n",
    "plt.legend(['train', 'val'], loc='upper left')\n",
    "plt.tight_layout()\n",
    "plt.show()"
   ]
  },
  {
   "cell_type": "markdown",
   "id": "f7399c72-1f38-4583-b271-401c14e6db48",
   "metadata": {},
   "source": [
    "### Verify the predicitions being made\n",
    "---"
   ]
  },
  {
   "cell_type": "code",
   "execution_count": 10,
   "id": "recognized-worst",
   "metadata": {},
   "outputs": [],
   "source": [
    "# Decode predictions didn't seem to work so well when not using\n",
    "# xception network. This function should decode objects with 2 classes [0,1]\n",
    "def decoder(one_pred):\n",
    "    if one_pred[0] > one_pred[1]:\n",
    "        return np.float32([1,0])\n",
    "    else:\n",
    "        return [0,1]"
   ]
  },
  {
   "cell_type": "code",
   "execution_count": 11,
   "id": "general-calgary",
   "metadata": {},
   "outputs": [],
   "source": [
    "num_items = len(Y)\n",
    "squat_preds = first_model.predict(X[0:num_items,:,:,:])"
   ]
  },
  {
   "cell_type": "code",
   "execution_count": 12,
   "id": "forty-purple",
   "metadata": {},
   "outputs": [],
   "source": [
    "decoded = np.apply_along_axis(decoder, 1, squat_preds)"
   ]
  },
  {
   "cell_type": "code",
   "execution_count": 13,
   "id": "bridal-russell",
   "metadata": {},
   "outputs": [],
   "source": [
    "incorrect_squats = []\n",
    "incorrect_non_squats = []\n",
    "for i in range(100):\n",
    "    if np.array_equal(decoded[i],Y[i]) == False:\n",
    "        if Y[i][0] == 1:\n",
    "            incorrect_non_squats.append(i)\n",
    "        elif Y[i][1] == 0:\n",
    "            incorrect_squats.append(i)"
   ]
  },
  {
   "cell_type": "code",
   "execution_count": 14,
   "id": "special-identification",
   "metadata": {},
   "outputs": [],
   "source": [
    "for i in incorrect_non_squats:\n",
    "    plt.imshow(image.array_to_img(X[i,:,:,:])) \n",
    "    plt.show()\n",
    "    \n",
    "# No cats classified incorrectly"
   ]
  },
  {
   "cell_type": "code",
   "execution_count": 15,
   "id": "closed-performer",
   "metadata": {},
   "outputs": [],
   "source": [
    "for i in incorrect_non_squats:\n",
    "    plt.imshow(image.array_to_img(X[i,:,:,:])) \n",
    "    plt.show()"
   ]
  },
  {
   "cell_type": "code",
   "execution_count": null,
   "id": "2e8c16b3-4461-4ece-8d1a-7b607b4229ed",
   "metadata": {},
   "outputs": [],
   "source": []
  }
 ],
 "metadata": {
  "kernelspec": {
   "display_name": "Python 3",
   "language": "python",
   "name": "python3"
  },
  "language_info": {
   "codemirror_mode": {
    "name": "ipython",
    "version": 3
   },
   "file_extension": ".py",
   "mimetype": "text/x-python",
   "name": "python",
   "nbconvert_exporter": "python",
   "pygments_lexer": "ipython3",
   "version": "3.8.5"
  }
 },
 "nbformat": 4,
 "nbformat_minor": 5
}
