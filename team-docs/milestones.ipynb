{
 "cells": [
  {
   "cell_type": "markdown",
   "metadata": {},
   "source": [
    "# Project Milestone Apr 26th"
   ]
  },
  {
   "cell_type": "markdown",
   "metadata": {},
   "source": [
    "|Deliverable|Percent Complete|Expected Completion Date|Percent Complete by Next Milestone|\n",
    "|-|-|-|-|\n",
    "|Code|100%|Apr 19th|100%|\n",
    "|Paper|100%|Apr 26th|100%|\n",
    "|Demo|50%|May 3rd|100%|\n",
    "|Presentation|50%|May 3rd|100%|"
   ]
  },
  {
   "cell_type": "markdown",
   "metadata": {},
   "source": [
    "<strong> 1. What deliverable goals established in the last milestone report were accomplished to the anticipated\n",
    "percentage? </strong>\n",
    "\n",
    "The paper was completed, and good progress was made on both the presentation and demonstration."
   ]
  },
  {
   "cell_type": "markdown",
   "metadata": {},
   "source": [
    "<strong>2. What deliverable goals established in the last milestone report were were not accomplished to the anticipated percentage? </strong>\n",
    "\n",
    "Progress has been smooth this week."
   ]
  },
  {
   "cell_type": "markdown",
   "metadata": {},
   "source": [
    "<strong> 3. What are the main deliverable goals to meet before the next milestone report, and who is working on them? </strong>\n",
    "\n",
    "Brad and Sean will spearhead completion of the demonstration and presentation, respectively. The rest of us will being doing our part for the presentation and helping test the demonstration."
   ]
  }
 ],
 "metadata": {
  "kernelspec": {
   "display_name": "Python 3",
   "language": "python",
   "name": "python3"
  },
  "language_info": {
   "codemirror_mode": {
    "name": "ipython",
    "version": 3
   },
   "file_extension": ".py",
   "mimetype": "text/x-python",
   "name": "python",
   "nbconvert_exporter": "python",
   "pygments_lexer": "ipython3",
   "version": "3.8.5"
  }
 },
 "nbformat": 4,
 "nbformat_minor": 4
}
