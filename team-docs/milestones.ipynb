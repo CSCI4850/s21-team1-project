{
 "cells": [
  {
   "cell_type": "markdown",
   "metadata": {},
   "source": [
    "# Project Milestone Apr 19th"
   ]
  },
  {
   "cell_type": "markdown",
   "metadata": {},
   "source": [
    "|Deliverable|Percent Complete|Expected Completion Date|Percent Complete by Next Milestone|\n",
    "|-|-|-|-|\n",
    "|Code|100%|Apr 19th|100%|\n",
    "|Paper|50%|Apr 26th|100%|\n",
    "|Demo|0%|Apr 26th|50%|\n",
    "|Presentation|15%|Apr 26th|50%|"
   ]
  },
  {
   "cell_type": "markdown",
   "metadata": {},
   "source": [
    "<strong> 1. What deliverable goals established in the last milestone report were accomplished to the anticipated\n",
    "percentage? </strong>\n",
    "\n",
    "The code is 100% complete but we will still be working to improve network performance"
   ]
  },
  {
   "cell_type": "markdown",
   "metadata": {},
   "source": [
    "<strong>2. What deliverable goals established in the last milestone report were were not accomplished to the anticipated percentage? </strong>\n",
    "\n",
    "The code was again completed later than expected, we hoped to have had more done on the paper, demo, and presentation before now. The paper is at 50% completion and the demo and presentation are stil at 0 and 15%"
   ]
  },
  {
   "cell_type": "markdown",
   "metadata": {},
   "source": [
    "<strong> 3. What are the main deliverable goals to meet before the next milestone report, and who is working on them? </strong>\n",
    "\n",
    "Though satisfactory, Matt and Chris will be working on improving network performance. Justin is completing the paper. Brad is putting together the demonstration and sean is starting on the presentation."
   ]
  }
 ],
 "metadata": {
  "kernelspec": {
   "display_name": "Python 3",
   "language": "python",
   "name": "python3"
  },
  "language_info": {
   "codemirror_mode": {
    "name": "ipython",
    "version": 3
   },
   "file_extension": ".py",
   "mimetype": "text/x-python",
   "name": "python",
   "nbconvert_exporter": "python",
   "pygments_lexer": "ipython3",
   "version": "3.8.5"
  }
 },
 "nbformat": 4,
 "nbformat_minor": 4
}
