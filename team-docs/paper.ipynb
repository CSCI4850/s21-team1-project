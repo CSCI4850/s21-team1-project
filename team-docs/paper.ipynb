{
 "cells": [
  {
   "cell_type": "markdown",
   "id": "consecutive-efficiency",
   "metadata": {},
   "source": [
    "Abstract"
   ]
  },
  {
   "cell_type": "code",
   "execution_count": null,
   "id": "authentic-segment",
   "metadata": {},
   "outputs": [],
   "source": []
  },
  {
   "cell_type": "markdown",
   "id": "rotary-measurement",
   "metadata": {},
   "source": [
    "Introduction & Background"
   ]
  },
  {
   "cell_type": "markdown",
   "id": "complex-vertex",
   "metadata": {},
   "source": [
    "The use of neural networks and machine learning  in conjunction with human motions is hardly a new application. Neural networks have been seen to go hand in hand with human motion applications such as playing key roles in physical activity for performance, efficiency and also in healing and rehabilitation such as physical therapy. The objective of our research is to develop a neural network and a methodology for modeling  and evaluating certain physical activity and exercising. For the purpose of our initial research we will be focusing on the squat exercise in particular. "
   ]
  },
  {
   "cell_type": "markdown",
   "id": "intensive-morocco",
   "metadata": {},
   "source": [
    "The squat is a very popular common compound exercise that is often done with the use of additional weights, and that focuses on many key muscles. Hence why when not done correctly or with proper technique an individual can be prone to injury. Thus we will be focusing on the squatters form and technique. Our general goal with our neural network is to help guide lesser experienced gym-goers."
   ]
  },
  {
   "cell_type": "markdown",
   "id": "helpful-comparative",
   "metadata": {},
   "source": [
    "Our current intended method is using a input dataset of 3000 images containing good squats, bad squats and non squat excercise in general in conjuction with a imagescrapper. Then train our multi layer neural net to..."
   ]
  },
  {
   "cell_type": "markdown",
   "id": "governing-tokyo",
   "metadata": {},
   "source": [
    "Methods"
   ]
  },
  {
   "cell_type": "code",
   "execution_count": null,
   "id": "increased-indianapolis",
   "metadata": {},
   "outputs": [],
   "source": []
  },
  {
   "cell_type": "markdown",
   "id": "headed-annotation",
   "metadata": {},
   "source": [
    "Results"
   ]
  },
  {
   "cell_type": "code",
   "execution_count": null,
   "id": "ordinary-ferry",
   "metadata": {},
   "outputs": [],
   "source": []
  },
  {
   "cell_type": "markdown",
   "id": "basic-inspector",
   "metadata": {},
   "source": [
    "Discussion & Conclusion"
   ]
  },
  {
   "cell_type": "code",
   "execution_count": null,
   "id": "cutting-resident",
   "metadata": {},
   "outputs": [],
   "source": []
  }
 ],
 "metadata": {
  "kernelspec": {
   "display_name": "Python 3",
   "language": "python",
   "name": "python3"
  },
  "language_info": {
   "codemirror_mode": {
    "name": "ipython",
    "version": 3
   },
   "file_extension": ".py",
   "mimetype": "text/x-python",
   "name": "python",
   "nbconvert_exporter": "python",
   "pygments_lexer": "ipython3",
   "version": "3.8.6"
  }
 },
 "nbformat": 4,
 "nbformat_minor": 5
}
