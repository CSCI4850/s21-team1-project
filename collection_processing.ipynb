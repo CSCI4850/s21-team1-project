{
 "cells": [
  {
   "cell_type": "code",
   "execution_count": 1,
   "id": "protected-limitation",
   "metadata": {},
   "outputs": [],
   "source": [
    "import tensorflow.keras as keras\n",
    "import numpy as np\n",
    "import matplotlib.pyplot as plt\n",
    "import os\n",
    "\n",
    "%matplotlib inline\n",
    "%run functions.ipynb"
   ]
  },
  {
   "cell_type": "code",
   "execution_count": 9,
   "id": "first-boulder",
   "metadata": {},
   "outputs": [],
   "source": [
    "# This function, found in functions.ipynb, returns a tuple object (numpy_array, list) for X and Y values\n",
    "\n",
    "# Change the directory name and make sure to leave off the last /\n",
    "bad = imgs_to_array('./leabra/bad')\n",
    "good = imgs_to_array('./leabra/good')\n",
    "\n",
    "X = np.concatenate((good[0], bad[0]))\n",
    "y_list = good[1] + bad[1]"
   ]
  },
  {
   "cell_type": "code",
   "execution_count": 10,
   "id": "endangered-coaching",
   "metadata": {},
   "outputs": [],
   "source": [
    "# The imgs_to_array function only returns the directory name. Since were using file structure to classify images this works\n",
    "# but requires some post processing to convert to something keras friendly\n",
    "for i in range(len(y_list)):\n",
    "    if y_list[i] == 'good':\n",
    "        y_list[i] = np.float32(1)\n",
    "    else:\n",
    "        y_list[i] = np.float32(0)\n",
    "        \n",
    "Y = keras.utils.to_categorical(y_list, num_classes=2)"
   ]
  },
  {
   "cell_type": "code",
   "execution_count": 11,
   "id": "environmental-subscription",
   "metadata": {},
   "outputs": [
    {
     "name": "stdout",
     "output_type": "stream",
     "text": [
      "[[0. 1.]\n",
      " [0. 1.]\n",
      " [0. 1.]\n",
      " [0. 1.]\n",
      " [0. 1.]]\n",
      "[[1. 0.]\n",
      " [1. 0.]\n",
      " [1. 0.]\n",
      " [1. 0.]\n",
      " [1. 0.]]\n"
     ]
    }
   ],
   "source": [
    "print(Y[0:5])\n",
    "print(Y[-6:-1])"
   ]
  },
  {
   "cell_type": "code",
   "execution_count": 12,
   "id": "mature-lender",
   "metadata": {},
   "outputs": [],
   "source": [
    "np.save(\"./leabra/data_exports/x_4-1.npy\", X)\n",
    "np.save(\"./leabra/data_exports/y_4-1.npy\", Y)"
   ]
  }
 ],
 "metadata": {
  "kernelspec": {
   "display_name": "Python 3 (λ)",
   "language": "python",
   "name": "lambda-stack"
  },
  "language_info": {
   "codemirror_mode": {
    "name": "ipython",
    "version": 3
   },
   "file_extension": ".py",
   "mimetype": "text/x-python",
   "name": "python",
   "nbconvert_exporter": "python",
   "pygments_lexer": "ipython3",
   "version": "3.8.5"
  }
 },
 "nbformat": 4,
 "nbformat_minor": 5
}
