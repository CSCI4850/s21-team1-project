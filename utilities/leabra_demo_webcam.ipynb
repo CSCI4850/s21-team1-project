{
 "cells": [
  {
   "cell_type": "markdown",
   "id": "c29f41a9",
   "metadata": {},
   "source": [
    "## Demo the network with webcam\n",
    "This uses scikit-image metrics.structural_similarity (or measure.compare_ssim) functions to find the bottom of a squat assuming the participant pauses for 15 frames of capture. The amount of time varies with hardware. Then it displays the chosen frame and passes it through model.predict().\n"
   ]
  },
  {
   "cell_type": "code",
   "execution_count": 1,
   "id": "0dbd388b",
   "metadata": {},
   "outputs": [],
   "source": [
    "from IPython.display import clear_output, Image, display, HTML\n",
    "import cv2\n",
    "import numpy as np\n",
    "from skimage import metrics"
   ]
  },
  {
   "cell_type": "code",
   "execution_count": 2,
   "id": "e18b977b",
   "metadata": {},
   "outputs": [
    {
     "data": {
      "text/plain": [
       "None"
      ]
     },
     "metadata": {},
     "output_type": "display_data"
    }
   ],
   "source": [
    "video = cv2.VideoCapture(0)\n",
    "\n",
    "prev_frame = None\n",
    "ssim = 0.0\n",
    "count=0\n",
    "\n",
    "display_handle=display(None, display_id=True)\n",
    "try:\n",
    "    while True:\n",
    "        \n",
    "        _, frame = video.read()\n",
    "        \n",
    "        try:\n",
    "            ssim = metrics.structural_similarity(prev_frame,frame,multichannel=True)\n",
    "        except:\n",
    "            pass\n",
    "        if ssim > 0.9:\n",
    "            count += 1\n",
    "        if count > 15:\n",
    "            break\n",
    "        prev_frame = frame\n",
    "        display_handle.update(Image(data=cv2.imencode('.jpeg', frame)[1]))\n",
    "        \n",
    "except KeyboardInterrupt:\n",
    "    pass\n",
    "finally:\n",
    "    current_frame = frame\n",
    "    video.release()\n",
    "    display_handle.update(None)"
   ]
  },
  {
   "cell_type": "code",
   "execution_count": 3,
   "id": "e925ac3a",
   "metadata": {},
   "outputs": [],
   "source": [
    "im1 = cv2.imencode(\".jpeg\", frame)[1]\n",
    "Image(data=im1)"
   ]
  },
  {
   "cell_type": "code",
   "execution_count": null,
   "id": "e68c7e0f",
   "metadata": {},
   "outputs": [],
   "source": [
    "model = keras.models.load_model(\"squat_classifier\")"
   ]
  },
  {
   "cell_type": "code",
   "execution_count": null,
   "id": "f3a0f9a2",
   "metadata": {},
   "outputs": [],
   "source": [
    "# possibly preprocess frame here, and call model.predict. dimensions=(150,150), RGB"
   ]
  },
  {
   "cell_type": "code",
   "execution_count": 10,
   "id": "fbb5aaae",
   "metadata": {},
   "outputs": [
    {
     "data": {
      "text/plain": [
       "True"
      ]
     },
     "execution_count": 10,
     "metadata": {},
     "output_type": "execute_result"
    }
   ],
   "source": [
    "cv2.imwrite(\"predict_squat.jpg\",frame)"
   ]
  },
  {
   "cell_type": "code",
   "execution_count": null,
   "id": "78830863",
   "metadata": {},
   "outputs": [],
   "source": []
  },
  {
   "cell_type": "markdown",
   "id": "d99869f3",
   "metadata": {},
   "source": [
    "#### Sources:\n",
    "https://stackoverflow.com/questions/27882255/is-it-possible-to-display-an-opencv-video-inside-the-ipython-jupyter-notebook\n",
    "https://stackoverflow.com/questions/58861577/differences-between-pil-image-open-and-cv2-imdecode\n",
    "https://www.geeksforgeeks.org/python-opencv-cv2-imread-method/\n",
    "https://stackoverflow.com/questions/44328645/interpreting-cv2-imencode-result\n",
    "https://docs.opencv.org/3.4/d8/d6a/group__imgcodecs__flags.html\n",
    "https://stackoverflow.com/questions/19098104/python-opencv2-cv2-wrapper-to-get-image-size"
   ]
  }
 ],
 "metadata": {
  "kernelspec": {
   "display_name": "Python 3",
   "language": "python",
   "name": "python3"
  },
  "language_info": {
   "codemirror_mode": {
    "name": "ipython",
    "version": 3
   },
   "file_extension": ".py",
   "mimetype": "text/x-python",
   "name": "python",
   "nbconvert_exporter": "python",
   "pygments_lexer": "ipython3",
   "version": "3.8.8"
  }
 },
 "nbformat": 4,
 "nbformat_minor": 5
}
