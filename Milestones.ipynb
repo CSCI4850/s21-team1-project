{
 "cells": [
  {
   "cell_type": "markdown",
   "metadata": {},
   "source": [
    "# Project Milestone Apr 12th"
   ]
  },
  {
   "cell_type": "markdown",
   "metadata": {},
   "source": [
    "|Deliverable|Percent Complete|Expected Completion Date|Percent Complete by Next Milestone|\n",
    "|-|-|-|-|\n",
    "|Code|50%|Apr 19th|100%|\n",
    "|Paper|25%|Apr 19th|90%|\n",
    "|Demo|0%|Apr 26th|20%|\n",
    "|Presentation|15%|Apr 26th|35%|"
   ]
  },
  {
   "cell_type": "markdown",
   "metadata": {},
   "source": [
    "<strong> 1. What deliverable goals established in the last milestone report were accomplished to the anticipated\n",
    "percentage? </strong>\n",
    "\n",
    "We've completed much of the code, simply by looking to open lab 6.  "
   ]
  },
  {
   "cell_type": "markdown",
   "metadata": {},
   "source": [
    "<strong>2. What deliverable goals established in the last milestone report were were not accomplished to the anticipated percentage? </strong>\n",
    "\n",
    "Matt expected to have more fleshed out in order to work on the demo. Similar story for the paper and presentation."
   ]
  },
  {
   "cell_type": "markdown",
   "metadata": {},
   "source": [
    "<strong> 3. What are the main deliverable goals to meet before the next milestone report, and who is working on them? </strong>\n",
    "\n",
    "We need more data for the model to improve. Right now we have around 300 images, getting closer to 600 or 700 by the next milestone would be ideal. Chris and Brad will be tackling this while Justin and Sean work on the network. Matt will be starting, at least a template for the paper, demo, and presentation."
   ]
  },
  {
   "cell_type": "code",
   "execution_count": null,
   "metadata": {},
   "outputs": [],
   "source": []
  }
 ],
 "metadata": {
  "kernelspec": {
   "display_name": "Python 3",
   "language": "python",
   "name": "python3"
  },
  "language_info": {
   "codemirror_mode": {
    "name": "ipython",
    "version": 3
   },
   "file_extension": ".py",
   "mimetype": "text/x-python",
   "name": "python",
   "nbconvert_exporter": "python",
   "pygments_lexer": "ipython3",
   "version": "3.8.5"
  }
 },
 "nbformat": 4,
 "nbformat_minor": 4
}
