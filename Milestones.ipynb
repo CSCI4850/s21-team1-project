{
 "cells": [
  {
   "cell_type": "markdown",
   "metadata": {},
   "source": [
    "# Project Milestone #3"
   ]
  },
  {
   "cell_type": "markdown",
   "metadata": {},
   "source": [
    "|Deliverable|Percent Complete|Expected Completion Date|Percent Complete by Next Milestone|\n",
    "|-|-|-|-|\n",
    "|Code|20%|Apr 16th|35%|\n",
    "|Paper|20%|Apr 19th|25%|\n",
    "|Demo|0%|Apr 26th|5%|\n",
    "|Presentation|5%|Apr 26th|5%|"
   ]
  },
  {
   "cell_type": "markdown",
   "metadata": {},
   "source": [
    "<strong> 1. What deliverable goals established in the last milestone report were accomplished to the anticipated\n",
    "percentage? </strong>\n",
    "\n",
    "While waiting on a solid dataset Justin Cao was able to work on the background and intro to the paper. This was accomplished well past the anticipated percentage. "
   ]
  },
  {
   "cell_type": "markdown",
   "metadata": {},
   "source": [
    "<strong>2. What deliverable goals established in the last milestone report were were not accomplished to the anticipated percentage? </strong>\n",
    "\n",
    "We had hoped to get to about 25% on the coding portion. We hadn't been able to get a solid data set though, until Sunday night."
   ]
  },
  {
   "cell_type": "markdown",
   "metadata": {},
   "source": [
    "<strong> 3. What are the main deliverable goals to meet before the next milestone report, and who is working on them? </strong>\n",
    "\n",
    "After classifying images Sean and Justin will be busy developing the network, and if there is any image processing that needs to be done they will work with Chris. We hope to get 35% - 40% of the code done. Not perfect but testable. Matt and Brad will start laying out what needs to be done for the paper, demo, and presentation."
   ]
  },
  {
   "cell_type": "code",
   "execution_count": null,
   "metadata": {},
   "outputs": [],
   "source": [
    " "
   ]
  }
 ],
 "metadata": {
  "kernelspec": {
   "display_name": "Python 3",
   "language": "python",
   "name": "python3"
  },
  "language_info": {
   "codemirror_mode": {
    "name": "ipython",
    "version": 3
   },
   "file_extension": ".py",
   "mimetype": "text/x-python",
   "name": "python",
   "nbconvert_exporter": "python",
   "pygments_lexer": "ipython3",
   "version": "3.8.5"
  }
 },
 "nbformat": 4,
 "nbformat_minor": 4
}
