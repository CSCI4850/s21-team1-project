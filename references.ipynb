{
 "cells": [
  {
   "cell_type": "raw",
   "metadata": {},
   "source": [
    "@online{b1,\n",
    "author = {Brownlee, Jason},\n",
    "title  = {When to Use MLP, CNN, and RNN Neural Networks},\n",
    "date   = {07-23-2018},\n",
    "url    = {https://machinelearningmastery.com/when-to-use-mlp-cnn-and-rnn-neural-networks/}\n",
    "}"
   ]
  },
  {
   "cell_type": "raw",
   "metadata": {},
   "source": [
    "@online{b2,\n",
    "author = {Brownlee, Jason},\n",
    "title  = {Crash Course in Convolutional Neural Networks for Machine Learning},\n",
    "date   = {06-24-2016},\n",
    "url    = {https://machinelearningmastery.com/when-to-use-mlp-cnn-and-rnn-neural-networks/}\n",
    "}"
   ]
  },
  {
   "cell_type": "raw",
   "metadata": {},
   "source": [
    "@online{b3,\n",
    "author = {Murgai, Leena},\n",
    "title  = {Reducing Bias in AI},\n",
    "date   = {02-24-2021},\n",
    "url    = {https://blog.insightdatascience.com/reducing-bias-in-ai-d64bc3142ae2/}\n",
    "}"
   ]
  },
  {
   "cell_type": "raw",
   "metadata": {},
   "source": [
    "@online{b4,\n",
    "author = {Saurav, Singla},\n",
    "title  = {Batch Normalization in Deep Neural Networks},\n",
    "url    = {https://www.kdnuggets.com/2020/08/batch-normalization-deep-neural-networks.html/}\n",
    "}"
   ]
  },
  {
   "cell_type": "raw",
   "metadata": {},
   "source": [
    "@online{b5,\n",
    "author = {Saha, Sumit},\n",
    "title  = {A Comprehensive Guide to Convolutional Neural Networks...},\n",
    "date   = {12-17-2018},\n",
    "url    = {https://towardsdatascience.com/a-comprehensive-guide-to-convolutional-neural-networks-the-eli5-way-3bd2b1164a53/}\n",
    "}"
   ]
  },
  {
   "cell_type": "raw",
   "metadata": {},
   "source": [
    "@online{b7,\n",
    "author = {Garbin, Christian},\n",
    "author = {Zhu, Xingquan},\n",
    "author = {Marques, Oge},\n",
    "title  = {Dropout vs. batch normalization: an empirical study of their impact to deep learning},\n",
    "date   = {01-22-2020},\n",
    "url    = {https://link.springer.com/article/10.1007/s11042-019-08453-9}\n",
    "}"
   ]
  },
  {
   "cell_type": "raw",
   "metadata": {},
   "source": [
    "@online{b6,\n",
    "author = {Ujjwalkarn},\n",
    "title  = {An Intuitive Explanation of Convolutional Neural Networks},\n",
    "date   = {05-29-2017},\n",
    "url    = {https://ujjwalkarn.me/2016/08/11/intuitive-explanation-convnets/}\n",
    "} "
   ]
  },
  {
   "cell_type": "raw",
   "metadata": {},
   "source": [
    "@online{b8,\n",
    "author = {Allibhai, Eijaz},\n",
    "title  = {Building a Convolutional Neural Network (CNN) in Keras},\n",
    "date   = {11-15-2018},\n",
    "url    = {https://towardsdatascience.com/building-a-convolutional-neural-network-cnn-in-keras-329fbbadc5f5}\n",
    "}"
   ]
  }
 ],
 "metadata": {
  "kernelspec": {
   "display_name": "Python 3",
   "language": "python",
   "name": "python3"
  },
  "language_info": {
   "codemirror_mode": {
    "name": "ipython",
    "version": 3
   },
   "file_extension": ".py",
   "mimetype": "text/x-python",
   "name": "python",
   "nbconvert_exporter": "python",
   "pygments_lexer": "ipython3",
   "version": "3.8.6"
  }
 },
 "nbformat": 4,
 "nbformat_minor": 4
}
