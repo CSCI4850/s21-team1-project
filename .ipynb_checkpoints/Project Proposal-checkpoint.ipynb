{
 "cells": [
  {
   "cell_type": "markdown",
   "id": "optimum-newsletter",
   "metadata": {},
   "source": [
    "## Leabra Team Proposal \n",
    "---"
   ]
  },
  {
   "cell_type": "markdown",
   "id": "contained-pulse",
   "metadata": {},
   "source": [
    "### Overall Goals"
   ]
  },
  {
   "cell_type": "markdown",
   "id": "diagnostic-interest",
   "metadata": {},
   "source": [
    "We are looking to create a network that can identify how \"right\" a squat is. We had originally thought of doing multiple exercises but in an effort to not bite off more than we can chew we decided to stick with just squats. There are a few reasons we chose a squat: it's a common exercise, it's easy to mess up, and there are negative impacts to doing one improperly. The network we will be creating should take images as input and output a single number between 0 and 1 guessing how good the squat is. The network will only be comparing the input state against the final, correct state of a squat. To simply the problem we will not be trying to measure how right the process of getting to that state is. We hope that any confidence interval between 0.8 and 0.95 would be identifying an attempt at a squat and any interval between 0.95 and 1 would be a good squat. The numbers and theory will need to be tested but the general idea is to create a network that would be able to \"guide\" less experienced gym goers or exercisers. "
   ]
  },
  {
   "cell_type": "markdown",
   "id": "flying-dress",
   "metadata": {},
   "source": [
    "### Dataset Possibilities"
   ]
  },
  {
   "cell_type": "markdown",
   "id": "presidential-reproduction",
   "metadata": {},
   "source": [
    "Despite looking through resources like Kaggle, ImageNet, and other data repos there seems to not be any open datasets containing what we need. Google has images that we can use but extracting each by hand would be incredibly time consuming. I've found code for a node-based image scraper and another python based one. If we do end up collecting images with a scraper we will likely have to do a good bit of image processing. (3) There are a number of libraries we can look at using to streamline this, like pillow, keras, SciPy, or Scikit-image. If we have a relative small scope, for instance one or two exercises, I don't see this being too difficult. Given that I haven't been able to find any other datasets even close to what we need, this might be option one of two. The second option would be to create our own dataset from frames in videos that we take ourself. Both options present their own set of challenges and results. Using scraped images might produce a more adaptable, less accurate model while the created dataset would likely produce the opposite. "
   ]
  },
  {
   "cell_type": "markdown",
   "id": "addressed-seventh",
   "metadata": {},
   "source": [
    "### Methods and Measure of Success"
   ]
  },
  {
   "cell_type": "markdown",
   "id": "needed-newman",
   "metadata": {},
   "source": [
    "Our modeling will employ a neural network of inputs of eitherPicture scraping or data from a motion capture system of human motions and or points such as joints during said workout. The proposed neural network's measure of success would be weighting our set of inputs against certain frequency or thresholds to determined if the squatter's form is correct. As there may be a lot of variation in data, inputs and different accepted forms in said workout (squats) we plan to measure against thresholds such as 80% to 95% accuracy to ensure proper form."
   ]
  },
  {
   "cell_type": "markdown",
   "id": "entertaining-proceeding",
   "metadata": {},
   "source": [
    "### Intended Technologies"
   ]
  },
  {
   "cell_type": "markdown",
   "id": "supreme-january",
   "metadata": {},
   "source": [
    "In most research projects that processes sequential time-series data, recurrent units are most often used in the implementation of the models. This project will include time-series data, but there has been recent work that has suggested that it might not be the best way to go with this project. (1) Researchers have recently done something very similar to what we are working on. In their testing they used a few different architectures to find the level of correctness that an individual is performing a physical rehabilitation exercise. The one that performed the best was a convolutional neural network. Since we will be using images of independent exercises states, we will be using a convolutional neural network."
   ]
  },
  {
   "cell_type": "markdown",
   "id": "wooden-adapter",
   "metadata": {},
   "source": [
    "#### Resources"
   ]
  },
  {
   "cell_type": "markdown",
   "id": "norwegian-fluid",
   "metadata": {},
   "source": [
    "(1) https://arxiv.org/ftp/arxiv/papers/1901/1901.10435.pdf\n",
    "\n",
    "(2) https://towardsdatascience.com/image-datasets-for-artificial-intelligence-bbb12615edd7\n",
    "\n",
    "(3) https://pillow.readthedocs.io/en/stable/\n",
    "\n",
    "(4) http://www.bu.edu/vip/files/pubs/reports/MOT17-04buece.pdf"
   ]
  },
  {
   "cell_type": "code",
   "execution_count": null,
   "id": "becoming-massachusetts",
   "metadata": {},
   "outputs": [],
   "source": []
  }
 ],
 "metadata": {
  "kernelspec": {
   "display_name": "Python 3",
   "language": "python",
   "name": "python3"
  },
  "language_info": {
   "codemirror_mode": {
    "name": "ipython",
    "version": 3
   },
   "file_extension": ".py",
   "mimetype": "text/x-python",
   "name": "python",
   "nbconvert_exporter": "python",
   "pygments_lexer": "ipython3",
   "version": "3.8.5"
  }
 },
 "nbformat": 4,
 "nbformat_minor": 5
}
